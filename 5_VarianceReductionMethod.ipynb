{
 "cells": [
  {
   "cell_type": "markdown",
   "metadata": {},
   "source": [
    "## Initialization"
   ]
  },
  {
   "cell_type": "code",
   "execution_count": 190,
   "metadata": {},
   "outputs": [],
   "source": [
    "import numpy as np\n",
    "import matplotlib.pyplot as plt\n",
    "import random\n",
    "from scipy.stats import chi2, kstest, norm\n",
    "import seaborn as sns\n",
    "import math\n",
    "import scipy.stats as stats"
   ]
  },
  {
   "cell_type": "markdown",
   "metadata": {},
   "source": [
    "## 1) Crude Monte Carlo"
   ]
  },
  {
   "cell_type": "code",
   "execution_count": 191,
   "metadata": {},
   "outputs": [
    {
     "name": "stdout",
     "output_type": "stream",
     "text": [
      "1.743309935963331\n",
      "[1.65 1.84]\n"
     ]
    }
   ],
   "source": [
    "np.random.seed(1234)\n",
    "\n",
    "def MonteCarlo(n):\n",
    "    U = np.random.uniform(0, 1, n)\n",
    "    X = np.exp(U)\n",
    "    mean = np.mean(X)\n",
    "    std = np.std(X)\n",
    "    standard_error = std / np.sqrt(n)\n",
    "    conf_int = (mean - 1.96 * standard_error, mean + 1.96 * standard_error)\n",
    "    return mean, conf_int\n",
    "\n",
    "\n",
    "mean, conf_int = MonteCarlo(100)\n",
    "print(mean)\n",
    "print(np.round(conf_int,2))\n",
    "\n"
   ]
  },
  {
   "cell_type": "markdown",
   "metadata": {},
   "source": [
    "## Antithetic Variables"
   ]
  },
  {
   "cell_type": "code",
   "execution_count": 192,
   "metadata": {},
   "outputs": [
    {
     "name": "stdout",
     "output_type": "stream",
     "text": [
      "1.7091022622154748\n",
      "[1.62 1.8 ]\n"
     ]
    }
   ],
   "source": [
    "np.random.seed(1234)\n",
    "def AntitheticVariables(n):\n",
    "\n",
    "    U = np.random.uniform(0, 1, n//2)\n",
    " \n",
    "    U = np.concatenate([U, 1-U])\n",
    "\n",
    "    X = np.exp(U)\n",
    "\n",
    "    mean = np.mean(X)\n",
    "    std = np.std(X)\n",
    "    standard_error = std / np.sqrt(n)\n",
    "    conf_int = (mean - 1.96 * standard_error, mean + 1.96 * standard_error)\n",
    "\n",
    "    return mean, conf_int\n",
    "\n",
    "\n",
    "mean, conf_int = AntitheticVariables(100)\n",
    "print(mean)\n",
    "print(np.round(conf_int,2))"
   ]
  },
  {
   "cell_type": "markdown",
   "metadata": {},
   "source": [
    "## Control Variable"
   ]
  },
  {
   "cell_type": "code",
   "execution_count": 204,
   "metadata": {},
   "outputs": [
    {
     "name": "stdout",
     "output_type": "stream",
     "text": [
      "1.7022804275888808\n",
      "[1.68 1.72]\n"
     ]
    }
   ],
   "source": [
    "np.random.seed(1234)\n",
    "def ControlVariables(n):\n",
    "\n",
    "    U = np.random.uniform(0, 1, n//2)\n",
    "\n",
    "    X = np.exp(U)\n",
    "    Y = U\n",
    "\n",
    "    mu_y = 0.5\n",
    "\n",
    "    #Value taken from slides\n",
    "    c = -0.14086/np.var(Y)\n",
    "    \n",
    "    Z = X + c * (Y - mu_y)\n",
    "\n",
    "    mean = np.mean(Z)\n",
    "    std = np.std(Z)\n",
    "    standard_error = std / np.sqrt(n)\n",
    "    conf_int = (mean - 1.96 * standard_error, mean + 1.96 * standard_error)\n",
    "\n",
    "    return mean, conf_int\n",
    "\n",
    "\n",
    "mean, confidence_interval = ControlVariables(100)\n",
    "print(mean)\n",
    "print(np.round(confidence_interval,2))"
   ]
  },
  {
   "cell_type": "markdown",
   "metadata": {},
   "source": [
    "## Stratified Sampling"
   ]
  },
  {
   "cell_type": "code",
   "execution_count": 205,
   "metadata": {},
   "outputs": [
    {
     "name": "stdout",
     "output_type": "stream",
     "text": [
      "1.7207447330229444\n",
      "[1.62 1.82]\n"
     ]
    }
   ],
   "source": [
    "np.random.seed(1234)\n",
    "def StratifiedSampling(n):\n",
    "\n",
    "    k = 10  \n",
    "    N = n // k\n",
    "\n",
    "    samples = []\n",
    "    for i in range(k):\n",
    "        StratifiedSamples = np.random.uniform(i / k, (i + 1) / k, N)\n",
    "        samples.extend(StratifiedSamples)\n",
    "\n",
    "    U = np.array(samples)\n",
    "\n",
    "    X = np.exp(U)\n",
    "\n",
    "    mean = np.mean(X)\n",
    "    std = np.std(X)\n",
    "    standard_error = std / np.sqrt(n)\n",
    "    conf_int = (mean - 1.96 * standard_error, mean + 1.96 * standard_error)\n",
    "\n",
    "    return mean, conf_int\n",
    "\n",
    "\n",
    "mean, conf_int = StratifiedSampling(100)\n",
    "print(mean)\n",
    "print(np.round(conf_int,2))"
   ]
  },
  {
   "cell_type": "markdown",
   "metadata": {},
   "source": [
    "## Summary of methods"
   ]
  },
  {
   "cell_type": "code",
   "execution_count": 206,
   "metadata": {},
   "outputs": [
    {
     "name": "stdout",
     "output_type": "stream",
     "text": [
      "True Mean Value:\n",
      "1.72 \n",
      "\n",
      "Monte Carlo:\n",
      "1.7014            [1.62 1.78]          0.0186           0.1643 \n",
      "\n",
      "Antithetic Variables:\n",
      "1.7153            [1.62 1.81]          0.0047           0.1889 \n",
      "\n",
      "Control Variables:\n",
      "1.7161            [1.7  1.73]          0.0039           0.0237 \n",
      "\n",
      "Stratified Sampling:\n",
      "1.7171            [1.62 1.81]          0.0029           0.1947 \n",
      "\n"
     ]
    }
   ],
   "source": [
    "n = 100\n",
    "np.random.seed(123)\n",
    "print('True Mean Value:')\n",
    "print('1.72 \\n')\n",
    "\n",
    "print('Monte Carlo:')\n",
    "mean, confidence_interval = MonteCarlo(n)\n",
    "print(np.round(mean,4),'          ',np.round(confidence_interval,2),'        ',np.round(np.abs(mean-1.72),4),'         ',np.round(np.abs(confidence_interval[0]-confidence_interval[1]),4),'\\n')\n",
    "\n",
    "print('Antithetic Variables:')\n",
    "mean, confidence_interval = AntitheticVariables(n)\n",
    "print(np.round(mean,4),'          ',np.round(confidence_interval,2),'        ',np.round(np.abs(mean-1.72),4),'         ',np.round(np.abs(confidence_interval[0]-confidence_interval[1]),4),'\\n')\n",
    "\n",
    "print('Control Variables:')\n",
    "mean, confidence_interval = ControlVariables(n)\n",
    "print(np.round(mean,4),'          ',np.round(confidence_interval,2),'        ',np.round(np.abs(mean-1.72),4),'         ',np.round(np.abs(confidence_interval[0]-confidence_interval[1]),4),'\\n')\n",
    "\n",
    "print('Stratified Sampling:')\n",
    "mean, confidence_interval = StratifiedSampling(n)\n",
    "print(np.round(mean,4),'          ',np.round(confidence_interval,2),'        ',np.round(np.abs(mean-1.72),4),'         ',np.round(np.abs(confidence_interval[0]-confidence_interval[1]),4),'\\n')"
   ]
  },
  {
   "cell_type": "markdown",
   "metadata": {},
   "source": [
    "## Redusing Variance of Exercise 4 with control variates"
   ]
  },
  {
   "cell_type": "code",
   "execution_count": 76,
   "metadata": {},
   "outputs": [
    {
     "name": "stdout",
     "output_type": "stream",
     "text": [
      "variance of X:  2.421484000000001e-06\n",
      "variance of Z:  2.147183138949097e-06\n"
     ]
    }
   ],
   "source": [
    "# Parameters\n",
    "m = 10                  \n",
    "mst = 8   \n",
    "mtbc = 1 \n",
    "N = 100000  \n",
    "n= 10   \n",
    "\n",
    "# set seed\n",
    "np.random.seed(123)\n",
    "\n",
    "def Exp_service_time(mst):\n",
    "    return np.random.exponential(mst)\n",
    "\n",
    "def Run_Poisson_Sim(m,mst,mtbc,n,N,service_dist):\n",
    "    expected_service_time = mst\n",
    "\n",
    "    blocked_fractions = []\n",
    "    total_service_time = []\n",
    "    \n",
    "    for _ in range(n):\n",
    "        # Initialize parameters \n",
    "        t = 0\n",
    "        blocked_customers = 0\n",
    "        tot_ser_time = 0\n",
    "        busy_until = [0] * m\n",
    "\n",
    "        for _ in range(N):\n",
    "            t += np.random.exponential(mtbc)\n",
    "            \n",
    "            available_server = -1\n",
    "            for i in range(m):\n",
    "                if busy_until[i] <= t:\n",
    "                    available_server = i\n",
    "                    break\n",
    "            \n",
    "            if available_server == -1:\n",
    "                \n",
    "                blocked_customers += 1\n",
    "            else:\n",
    "                \n",
    "                service_time = service_dist()\n",
    "                tot_ser_time += service_time\n",
    "                busy_until[available_server] = t + service_time\n",
    "\n",
    "\n",
    "        blocked_fractions.append(blocked_customers / N)\n",
    "        total_service_time.append(tot_ser_time/N)\n",
    "    \n",
    "\n",
    "    mean_blocked = np.mean(blocked_fractions)\n",
    "    mean_service_time = np.mean(total_service_time)\n",
    "\n",
    "    variance_control_var = np.var(total_service_time)\n",
    "    if variance_control_var == 0:\n",
    "        raise ValueError(\"Control variable has zero variance, choose a different control variate.\")\n",
    "\n",
    "    cov = np.cov(blocked_fractions, total_service_time)[0, 1]\n",
    "    var = np.var(total_service_time)\n",
    "    alpha = cov / var\n",
    "\n",
    "    adjusted_blocking_fractions = [\n",
    "    bf - alpha * (cv - expected_service_time)\n",
    "    for bf, cv in zip(blocked_fractions, total_service_time)\n",
    "    ]  \n",
    "\n",
    "    #variance before \n",
    "    varX = np.var(blocked_fractions)\n",
    "\n",
    "    #variance after\n",
    "    varZ = varX - ((cov**2)/var )\n",
    "\n",
    "    print('variance of X: ', varX)\n",
    "    print('variance of Z: ', varZ)\n",
    "\n",
    "    mean = np.mean(adjusted_blocking_fractions)\n",
    "    std= np.std(adjusted_blocking_fractions)\n",
    "    conf_int = stats.norm.interval(0.95, loc=mean, scale=std / np.sqrt(n))\n",
    "\n",
    "    return adjusted_blocking_fractions,mean, conf_int\n",
    "\n",
    "generator = lambda: Exp_service_time(mst)\n",
    "# Run simulations\n",
    "blocked_fractions_1,mean_1, conf_int_1 = Run_Poisson_Sim(m,mst, mtbc,n,N,generator) "
   ]
  },
  {
   "cell_type": "markdown",
   "metadata": {},
   "source": [
    "## 6) "
   ]
  },
  {
   "cell_type": "code",
   "execution_count": 207,
   "metadata": {},
   "outputs": [
    {
     "name": "stdout",
     "output_type": "stream",
     "text": [
      "Mean Poisson: 0.1302\n",
      "Mean Hyper: 0.1378\n",
      "95% confidence interval Poisson: (0.1291, 0.1313)\n",
      "95% confidence interval Hyper: (0.1364, 0.1392)\n"
     ]
    }
   ],
   "source": [
    "#Function for hyper exponential distribution\n",
    "def Generate_numbers(seed, mtbc, p1, lambda1, p2, lambda2):\n",
    "    np.random.seed(seed)\n",
    "    t1 = np.random.poisson(mtbc)\n",
    "    if np.random.rand() < p1:\n",
    "        t2 = np.random.exponential(1/lambda1)\n",
    "    else:\n",
    "        t2 = np.random.exponential(1/lambda2)\n",
    "    \n",
    "    return t1, t2\n",
    "    \n",
    "\n",
    "\n",
    "def CommonRandomNumbers(m,mst,mtbc,n,N,service_dist):\n",
    "    \n",
    "    blocked_fractions_poi = []\n",
    "    blocked_fractions_hype = []\n",
    "    \n",
    "    # Hyper-exponential parameters\n",
    "    p1, lambda1 = 0.8, 0.8333\n",
    "    p2, lambda2 = 0.2, 5.0\n",
    "\n",
    "    for _ in range(n):\n",
    "        seed = np.random.randint(0,10000000,size=N)\n",
    "        # Initialize parameters \n",
    "        t_poi = 0\n",
    "        blocked_customers_poi = 0\n",
    "        busy_until_poi = [0] * m\n",
    "\n",
    "        t_hyp = 0\n",
    "        blocked_customers_hyp = 0\n",
    "        busy_until_hyp = [0] * m\n",
    "        \n",
    "        for j in range(N):\n",
    "\n",
    "            t1,t2 = Generate_numbers(seed[j],mtbc, p1, lambda1, p2, lambda2)\n",
    "\n",
    "            t_poi += t1\n",
    "            \n",
    "            t_hyp += t2\n",
    "            \n",
    "            \n",
    "            available_server_poi = -1\n",
    "            for i in range(m):\n",
    "                if busy_until_poi[i] <= t_poi:\n",
    "                    available_server_poi = i\n",
    "                    break\n",
    "            \n",
    "            if available_server_poi == -1:\n",
    "                blocked_customers_poi += 1\n",
    "            else:\n",
    "                service_time = service_dist()\n",
    "                busy_until_poi[available_server_poi] = t_poi + service_time\n",
    "\n",
    "            available_server_hyp = -1\n",
    "            for i in range(m):\n",
    "                if busy_until_hyp[i] <= t_hyp:\n",
    "                    available_server_hyp = i\n",
    "                    break\n",
    "            \n",
    "            if available_server_hyp == -1:\n",
    "                blocked_customers_hyp += 1\n",
    "            else:\n",
    "                service_time = service_dist()\n",
    "                busy_until_hyp[available_server_hyp] = t_hyp + service_time\n",
    "        \n",
    "        blocked_fractions_poi.append(blocked_customers_poi / N)\n",
    "        blocked_fractions_hype.append(blocked_customers_hyp / N)\n",
    "    \n",
    "    \n",
    "    mean_poi = np.mean(blocked_fractions_poi)\n",
    "    mean_hype = np.mean(blocked_fractions_hype)\n",
    "    \n",
    "    std_poi= np.std(np.array(blocked_fractions_poi))\n",
    "    std_hyp = np.std(np.array(blocked_fractions_hype))\n",
    "\n",
    "    conf_int_poi = stats.norm.interval(0.95, loc=mean_poi, scale=std_poi / np.sqrt(n))\n",
    "    conf_int_hyp = stats.norm.interval(0.95, loc=mean_hype, scale=std_hyp / np.sqrt(n))\n",
    "\n",
    "    return mean_poi, mean_hype,conf_int_poi, conf_int_hyp\n",
    "\n",
    "generator = lambda: Exp_service_time(mst)\n",
    "# Run simulations\n",
    "mean_poi, mean_hype,conf_int_poi, conf_int_hyp = CommonRandomNumbers(m,mst, mtbc,n,N,generator) \n",
    "\n",
    "# Print results\n",
    "print(f\"Mean Poisson: {mean_poi:.4f}\")\n",
    "print(f\"Mean Hyper: {mean_hype:.4f}\")\n",
    "\n",
    "print(f\"95% confidence interval Poisson: ({conf_int_poi[0]:.4f}, {conf_int_poi[1]:.4f})\")\n",
    "print(f\"95% confidence interval Hyper: ({conf_int_hyp[0]:.4f}, {conf_int_hyp[1]:.4f})\")\n",
    "\n"
   ]
  },
  {
   "cell_type": "markdown",
   "metadata": {},
   "source": [
    "## Exercise 7"
   ]
  },
  {
   "cell_type": "code",
   "execution_count": 128,
   "metadata": {},
   "outputs": [
    {
     "name": "stdout",
     "output_type": "stream",
     "text": [
      "2.275013194817921\n",
      "0.003167124183311998\n",
      " \n",
      "50.0\n",
      "50.0\n"
     ]
    }
   ],
   "source": [
    "from scipy.stats import norm\n",
    "\n",
    "a = 2\n",
    "print((1-norm.cdf(a,0,1))*100)\n",
    "\n",
    "a = 4\n",
    "print((1-norm.cdf(a,0,1))*100)\n",
    "print(' ')\n",
    "print((1-norm.cdf(2,2,1))*100)\n",
    "print((1-norm.cdf(a,4,1))*100)\n",
    "\n"
   ]
  },
  {
   "cell_type": "code",
   "execution_count": 208,
   "metadata": {},
   "outputs": [
    {
     "name": "stdout",
     "output_type": "stream",
     "text": [
      "\n",
      "Efficiency Discussion:\n",
      "Importance sampling tends to be more efficient when the tails of the distribution are important. It achieves this by assigning higher probabilities to rare events, thereby reducing variance compared to crude Monte Carlo.\n"
     ]
    },
    {
     "data": {
      "image/png": "[encoded data removed]",
      "text/plain": [
       "<Figure size 800x800 with 6 Axes>"
      ]
     },
     "metadata": {},
     "output_type": "display_data"
    },
    {
     "data": {
      "image/png": "[encoded data removed]",
      "text/plain": [
       "<Figure size 800x800 with 6 Axes>"
      ]
     },
     "metadata": {},
     "output_type": "display_data"
    }
   ],
   "source": [
    "import numpy as np\n",
    "import time\n",
    "np.random.seed(1234)\n",
    "\n",
    "def crude_monte_carlo(a, num_samples):\n",
    "    samples = np.random.randn(num_samples)  \n",
    "    probability = np.mean(samples > a)\n",
    "    return samples, probability\n",
    "\n",
    "# Importance sampling\n",
    "def importance_sampling(a, sigma, num_samples):\n",
    "    samples = np.random.normal(loc=a, scale=sigma, size=num_samples)  \n",
    "    weights = np.exp(-0.5 * ((samples - a) / sigma) ** 2) / (sigma * np.sqrt(2 * np.pi))  \n",
    "    probability = np.mean((samples > a) * weights) / np.mean(weights)  \n",
    "    return samples,probability\n",
    "\n",
    "# Experimentation\n",
    "sample_sizes = [100, 500, 5000]  \n",
    "a_values = [2, 4]  \n",
    "sigma_values = [1]  \n",
    "\n",
    "figure, axis = plt.subplots(3, 2,figsize=(8, 8)) \n",
    "figure.tight_layout()\n",
    "i = 0\n",
    "j = 0\n",
    "for num_samples in sample_sizes:\n",
    "    j = 0\n",
    "    for a in a_values:\n",
    "        samples, crude_prob = crude_monte_carlo(a, num_samples)\n",
    "        axis[i,j].hist(samples, edgecolor='black')\n",
    "        axis[i,j].set_title(f'a = {a}    ,    N = {num_samples},   Prob = {np.round(crude_prob*100,3)}%')\n",
    "        axis[i,j].axvline(a, color='black', linestyle='dashed', linewidth=1)\n",
    "        axis[i,j].set_xlim([-4,5])\n",
    "        j+=1\n",
    "    i+=1\n",
    "\n",
    "figure, axis = plt.subplots(3, 2,figsize=(8, 8)) \n",
    "figure.tight_layout()\n",
    "i = 0\n",
    "j = 0\n",
    "for num_samples in sample_sizes:\n",
    "    j = 0\n",
    "    for a in a_values:\n",
    "        samples, crude_prob =importance_sampling(a, 1, num_samples)\n",
    "        axis[i,j].hist(samples, edgecolor='black')\n",
    "        axis[i,j].set_title(f'a = {a}    ,    N = {num_samples},   Prob = {np.round(crude_prob*100,3)}%')\n",
    "        axis[i,j].axvline(a, color='black', linestyle='dashed', linewidth=1)\n",
    "        axis[i,j].set_xlim([-2,8])\n",
    "        j+=1\n",
    "    i+=1\n",
    "        \n",
    "\n",
    "# Efficiency Discussion\n",
    "print(\"\\nEfficiency Discussion:\")\n",
    "print(\"Importance sampling tends to be more efficient when the tails of the distribution are important. It achieves this by assigning higher probabilities to rare events, thereby reducing variance compared to crude Monte Carlo.\")"
   ]
  },
  {
   "cell_type": "markdown",
   "metadata": {},
   "source": [
    "## Exercise 8"
   ]
  },
  {
   "cell_type": "code",
   "execution_count": 209,
   "metadata": {},
   "outputs": [
    {
     "name": "stdout",
     "output_type": "stream",
     "text": [
      "1.7200243316347406\n",
      "Estimated value: 5.5622878192884455\n"
     ]
    }
   ],
   "source": [
    "U = np.random.uniform(0, 1, num_samples)\n",
    "X = np.exp(U)\n",
    "mean = np.mean(X)\n",
    "print(mean)\n",
    "# Original function f(x) = e^x\n",
    "def f(x):\n",
    "    return np.exp(x)\n",
    "\n",
    "# Importance sampling function g(x) = lambda * exp(-lambda * x)\n",
    "def g(x, lmbda):\n",
    "    return lmbda * np.exp(-lmbda * x)\n",
    "\n",
    "# Importance sampling estimator\n",
    "def importance_sampling_estimator(lmbda, num_samples):\n",
    "    samples = np.random.exponential(scale=1/lmbda, size=num_samples)  # generate samples from exponential distribution\n",
    "    weights = f(samples) / g(samples, lmbda)  # compute importance weights\n",
    "    estimate = np.mean(weights)\n",
    "    return estimate\n",
    "\n",
    "# Parameters\n",
    "lmbda = 1  # lambda value for the exponential distribution\n",
    "num_samples = 100000  # number of samples\n",
    "\n",
    "# Estimate integral using importance sampling\n",
    "estimate = importance_sampling_estimator(lmbda, num_samples)\n",
    "print(\"Estimated value:\", estimate/num_samples)"
   ]
  },
  {
   "cell_type": "markdown",
   "metadata": {},
   "source": []
  },
  {
   "cell_type": "code",
   "execution_count": 151,
   "metadata": {},
   "outputs": [
    {
     "data": {
      "text/plain": [
       "1.7314510376039718"
      ]
     },
     "execution_count": 151,
     "metadata": {},
     "output_type": "execute_result"
    }
   ],
   "source": [
    "import numpy as np\n",
    "\n",
    "# Parameters\n",
    "lambda_ = 1.0\n",
    "N = 10000  # Number of samples\n",
    "\n",
    "# Generate samples from g(x)\n",
    "u = np.random.uniform(0, 1, N)\n",
    "x_samples = -1/lambda_ * np.log(1 - u * (1 - np.exp(-lambda_)))\n",
    "\n",
    "# Calculate weights\n",
    "weights = np.exp(x_samples) * (1 - np.exp(-lambda_)) / (lambda_ * np.exp(-lambda_ * x_samples))\n",
    "\n",
    "# Importance sampling estimate of the integral\n",
    "integral_estimate = np.mean(weights)\n",
    "\n",
    "integral_estimate\n"
   ]
  },
  {
   "cell_type": "code",
   "execution_count": 189,
   "metadata": {},
   "outputs": [
    {
     "data": {
      "text/plain": [
       "(5.363445511637438e-06,\n",
       " -2.9524753083669952,\n",
       " 1.7154877869121985,\n",
       " 0.24377008175184461)"
      ]
     },
     "execution_count": 189,
     "metadata": {},
     "output_type": "execute_result"
    }
   ],
   "source": [
    "import numpy as np\n",
    "import scipy.optimize as opt\n",
    "\n",
    "# Define the function to compute the variance for a given lambda\n",
    "def variance_estimator(lambda_):\n",
    "    I = np.exp(1) - 1  # Analytical value of the integral\n",
    "    term1 = (1 - np.exp(-lambda_))**2 / (lambda_ * (lambda_ + 2))\n",
    "    term2 = np.exp(lambda_ + 2) - 1\n",
    "    variance = term1 * term2 - I**2\n",
    "    return variance\n",
    "\n",
    "# Optimize to find the lambda that minimizes the variance\n",
    "result = opt.minimize_scalar(variance_estimator, bounds=(0.0, 10), method='bounded')\n",
    "optimal_lambda = result.x\n",
    "min_variance = result.fun\n",
    "\n",
    "# Simulation to verify the optimal lambda\n",
    "def importance_sampling(lambda_, N=10000):\n",
    "    u = np.random.uniform(0, 1, N)\n",
    "    x_samples = -1/lambda_ * np.log(1 - u * (1 - np.exp(-lambda_)))\n",
    "    weights = np.exp(x_samples) * (1 - np.exp(-lambda_)) / (lambda_ * np.exp(-lambda_ * x_samples))\n",
    "    integral_estimate = np.mean(weights)\n",
    "    variance_estimate = np.var(weights)\n",
    "    return integral_estimate, variance_estimate\n",
    "\n",
    "# Perform the simulation\n",
    "N = 10000\n",
    "integral_estimate, variance_estimate = importance_sampling(optimal_lambda, N)\n",
    "\n",
    "optimal_lambda, min_variance, integral_estimate, variance_estimate"
   ]
  }
 ],
 "metadata": {
  "kernelspec": {
   "display_name": "base",
   "language": "python",
   "name": "python3"
  },
  "language_info": {
   "codemirror_mode": {
    "name": "ipython",
    "version": 3
   },
   "file_extension": ".py",
   "mimetype": "text/x-python",
   "name": "python",
   "nbconvert_exporter": "python",
   "pygments_lexer": "ipython3",
   "version": "3.9.-1"
  }
 },
 "nbformat": 4,
 "nbformat_minor": 2
}
