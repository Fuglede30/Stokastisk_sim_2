{
 "cells": [
  {
   "cell_type": "markdown",
   "metadata": {},
   "source": [
    "## Initialization"
   ]
  },
  {
   "cell_type": "code",
   "execution_count": 2,
   "metadata": {},
   "outputs": [],
   "source": [
    "import numpy as np\n",
    "import matplotlib.pyplot as plt"
   ]
  },
  {
   "cell_type": "markdown",
   "metadata": {},
   "source": [
    "## Opgave 13"
   ]
  },
  {
   "cell_type": "code",
   "execution_count": 3,
   "metadata": {},
   "outputs": [
    {
     "data": {
      "text/plain": [
       "0.7583"
      ]
     },
     "execution_count": 3,
     "metadata": {},
     "output_type": "execute_result"
    }
   ],
   "source": [
    "# Given data\n",
    "X = np.array([56, 101, 78, 67, 93, 87, 64, 72, 80, 69])\n",
    "a, b = -5, 5\n",
    "n = len(X)\n",
    "B = 10000  # Number of bootstrap samples\n",
    "\n",
    "# Calculate sample mean\n",
    "X_mean = np.mean(X)\n",
    "\n",
    "# Generate bootstrap samples and calculate the proportion in the interval (a, b)\n",
    "count = 0\n",
    "for _ in range(B):\n",
    "    X_star = np.random.choice(X, size=n, replace=True)\n",
    "\n",
    "    X_star_mean = np.sum(X_star/n)\n",
    "    \n",
    "    if a < (X_star_mean - X_mean) < b:\n",
    "        count += 1\n",
    "\n",
    "# Estimate of p\n",
    "p_estimate = count / B\n",
    "p_estimate"
   ]
  },
  {
   "cell_type": "markdown",
   "metadata": {},
   "source": [
    "## Opgave 15"
   ]
  },
  {
   "cell_type": "code",
   "execution_count": 4,
   "metadata": {},
   "outputs": [
    {
     "data": {
      "text/plain": [
       "58.50802925085162"
      ]
     },
     "execution_count": 4,
     "metadata": {},
     "output_type": "execute_result"
    }
   ],
   "source": [
    "# Given data\n",
    "\n",
    "X = np.array([5, 4, 9, 6, 21, 17, 11, 20, 7, 10, 21, 15, 13, 16, 8])\n",
    "n = len(X)\n",
    "B = 10000  # Number of bootstrap samples\n",
    "\n",
    "# Function to calculate sample variance\n",
    "def sample_variance(data):\n",
    "    return np.var(data, ddof=1)\n",
    "\n",
    "# Calculate the original sample variance\n",
    "S2 = sample_variance(X)\n",
    "\n",
    "# Generate bootstrap samples and calculate the sample variance for each\n",
    "bootstrap_variances = np.zeros(B)\n",
    "for i in range(B):\n",
    "    X_star = np.random.choice(X, size=n, replace=True)\n",
    "    bootstrap_variances[i] = sample_variance(X_star)\n",
    "\n",
    "# Estimate the variance of the sample variances\n",
    "bootstrap_variance_of_variance = np.var(bootstrap_variances, ddof=1)\n",
    "bootstrap_variance_of_variance"
   ]
  },
  {
   "cell_type": "markdown",
   "metadata": {},
   "source": [
    "## "
   ]
  },
  {
   "cell_type": "code",
   "execution_count": 5,
   "metadata": {},
   "outputs": [
    {
     "name": "stdout",
     "output_type": "stream",
     "text": [
      "Sample Mean: 3.896255941727426\n",
      "Sample Median: 1.014866229318845\n",
      "boot Mean: 3.889668987638492\n",
      "boot Median: 1.0226570162719681\n",
      "Bootstrap Variance of Sample Mean: 0.9486957167637418\n",
      "Bootstrap Variance of Sample Median: 0.016281704346977115\n",
      "Precision of Sample Mean: 1.0266833762167547\n",
      "Precision of Sample Median: 7.837003989535993\n",
      "The median has higher precision than the mean.\n"
     ]
    },
    {
     "data": {
      "image/png": "[encoded data removed]",
      "text/plain": [
       "<Figure size 640x480 with 1 Axes>"
      ]
     },
     "metadata": {},
     "output_type": "display_data"
    }
   ],
   "source": [
    "import numpy as np\n",
    "np.random.seed(123)\n",
    "def bootstrap_variance(data, num_bootstrap=1000):\n",
    "    n = len(data)\n",
    "    bootstrap_medians = np.zeros(num_bootstrap)\n",
    "    \n",
    "    for i in range(num_bootstrap):\n",
    "        bootstrap_sample = np.random.choice(data, size=n, replace=True)\n",
    "        bootstrap_medians[i] = np.median(bootstrap_sample)\n",
    "    \n",
    "    return np.median(data), np.var(bootstrap_medians)\n",
    "\n",
    "# Parameters for the Pareto distribution\n",
    "beta = 1\n",
    "k = 1.05\n",
    "N = 200\n",
    "\n",
    "# Generate Pareto-distributed random variables\n",
    "data = np.random.pareto(a=k, size=N) * beta\n",
    "plt.hist(data)\n",
    "# Calculate sample mean and median\n",
    "sample_mean = np.mean(data)\n",
    "sample_median = np.median(data)\n",
    "\n",
    "# Bootstrap estimate of the variance of the sample mean\n",
    "def bootstrap_variance_mean_median(data, num_bootstrap=1000):\n",
    "    n = len(data)\n",
    "    bootstrap_means = np.zeros(num_bootstrap)\n",
    "    bootstrap_medians = np.zeros(num_bootstrap)\n",
    "    \n",
    "    for i in range(num_bootstrap):\n",
    "        bootstrap_sample = np.random.choice(data, size=n, replace=True)\n",
    "        bootstrap_means[i] = np.mean(bootstrap_sample)\n",
    "        bootstrap_medians[i] = np.median(bootstrap_sample)\n",
    "    \n",
    "    return np.mean(bootstrap_means),np.mean(bootstrap_medians), np.var(bootstrap_means), np.var(bootstrap_medians)\n",
    "\n",
    "# Compute results\n",
    "median, variance_median = bootstrap_variance(data)\n",
    "boot_mean, boot_median, variance_mean, variance_median = bootstrap_variance_mean_median(data)\n",
    "\n",
    "# Print results\n",
    "print(f\"Sample Mean: {sample_mean}\")\n",
    "print(f\"Sample Median: {sample_median}\")\n",
    "print(f\"boot Mean: {boot_mean}\")\n",
    "print(f\"boot Median: {boot_median}\")\n",
    "print(f\"Bootstrap Variance of Sample Mean: {variance_mean}\")\n",
    "print(f\"Bootstrap Variance of Sample Median: {variance_median}\")\n",
    "\n",
    "# Comparison of precision\n",
    "precision_mean = 1 / np.sqrt(variance_mean)\n",
    "precision_median = 1 / np.sqrt(variance_median)\n",
    "\n",
    "print(f\"Precision of Sample Mean: {precision_mean}\")\n",
    "print(f\"Precision of Sample Median: {precision_median}\")\n",
    "\n",
    "if precision_median > precision_mean:\n",
    "    print(\"The median has higher precision than the mean.\")\n",
    "else:\n",
    "    print(\"The mean has higher precision than the median.\")"
   ]
  }
 ],
 "metadata": {
  "kernelspec": {
   "display_name": "base",
   "language": "python",
   "name": "python3"
  },
  "language_info": {
   "codemirror_mode": {
    "name": "ipython",
    "version": 3
   },
   "file_extension": ".py",
   "mimetype": "text/x-python",
   "name": "python",
   "nbconvert_exporter": "python",
   "pygments_lexer": "ipython3",
   "version": "3.9.18"
  }
 },
 "nbformat": 4,
 "nbformat_minor": 2
}
