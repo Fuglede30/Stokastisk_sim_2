{
 "cells": [
  {
   "cell_type": "code",
   "execution_count": null,
   "metadata": {},
   "outputs": [],
   "source": [
    "from scipy.stats import kstest\n",
    "import random\n",
    " \n",
    "# N = int(input(\"Enter number of random numbers: \"))\n",
    "N = 5\n",
    " \n",
    "actual =[]\n",
    "print(\"Enter outcomes: \")\n",
    "for i in range(N):\n",
    "    # x = float(input(\"Outcomes of class \"+str(i + 1)+\": \"))\n",
    "    actual.append(random.random())\n",
    " \n",
    "print(actual)\n",
    "x = kstest(randNum, \"uniform\")   \n",
    "print(x)"
   ]
  },
  {
   "cell_type": "code",
   "execution_count": null,
   "metadata": {},
   "outputs": [],
   "source": [
    "rom scipy.stats.stats import pearsonr\n",
    "\n",
    "#calculation correlation coefficient and p-value between x and y\n",
    "\n",
    "\n",
    "r = round(pearsonr(randNum, realNum)[0], 4)\n",
    "\n",
    "print(r)\n",
    "# no linear correlation \n",
    "\n",
    "#extract p-value (rounded to 4 decimal places) \n",
    "p = round(pearsonr(randNum, realNum)[1], 4)\n",
    "\n",
    "print(p) \n"
   ]
  },
  {
   "cell_type": "code",
   "execution_count": null,
   "metadata": {},
   "outputs": [],
   "source": [
    "import scipy \n",
    "import numpy\n",
    "\n",
    "a = [5390,93648,1920,400,30000,84001]\n",
    "c = [4563,235346,4235,76,23,56573]\n",
    "M = [160000000, 320000000, 6891736428, 4562939575, 909283617, 123456789]\n",
    "\n",
    "for i in range(len(a)):\n",
    "    randNum = LCG(3506,a[i],c[i],M[i],10000)\n",
    "    \n",
    "    realNum = [random.uniform(0, 1) for i in range(10000)]\n",
    "\n",
    "    hist_rand, bin_edges_rand = numpy.histogram(randNum, \n",
    "                                        bins = np.arange(0, 1.1, 0.1).tolist()) \n",
    "\n",
    "    hist_real, bin_edges_real = numpy.histogram(realNum, \n",
    "                                        bins = np.arange(0, 1.1, 0.1).tolist()) \n",
    "\n",
    "    critical_value, p_value = chisquare(hist_rand,hist_real)\n",
    "    ks_stat,p_value = ks_uni(randNum)\n",
    "\n",
    "    l_median= np.median(randNum)\n",
    "    \n",
    "    Z = abs(runsTest(randNum, l_median)) \n",
    "    \n",
    "    r = round(pearsonr(randNum, realNum)[0], 4)\n",
    "\n",
    "    print(critical_value,'     ',ks_stat,'       ',Z,'        ',r )\n",
    "\n",
    "\n"
   ]
  },
  {
   "cell_type": "code",
   "execution_count": null,
   "metadata": {},
   "outputs": [],
   "source": [
    "randNum = np.array([random.uniform(0, 1) for i in range(10000)])\n",
    "    \n",
    "realNum = [random.uniform(0, 1) for i in range(10000)]\n",
    "\n",
    "hist_rand, bin_edges_rand = numpy.histogram(randNum, \n",
    "                                        bins = np.arange(0, 1.1, 0.1).tolist()) \n",
    "\n",
    "hist_real, bin_edges_real = numpy.histogram(realNum, \n",
    "                                        bins = np.arange(0, 1.1, 0.1).tolist()) \n",
    "\n",
    "critical_value, p_value = chisquare(hist_rand,hist_real)\n",
    "ks_stat,p_value = ks_uni(randNum)\n",
    "\n",
    "l_median= np.median(randNum)\n",
    "    \n",
    "Z = abs(runsTest(randNum, l_median)) \n",
    "    \n",
    "r = round(pearsonr(randNum, realNum)[0], 4)\n",
    "\n",
    "print(critical_value,'     ',ks_stat,'       ',Z,'        ',r )"
   ]
  }
 ],
 "metadata": {
  "language_info": {
   "name": "python"
  }
 },
 "nbformat": 4,
 "nbformat_minor": 2
}
